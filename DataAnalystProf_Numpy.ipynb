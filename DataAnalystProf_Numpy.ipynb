{
 "metadata": {
  "language_info": {
   "codemirror_mode": {
    "name": "ipython",
    "version": 3
   },
   "file_extension": ".py",
   "mimetype": "text/x-python",
   "name": "python",
   "nbconvert_exporter": "python",
   "pygments_lexer": "ipython3",
   "version": "3.8.5-final"
  },
  "orig_nbformat": 2,
  "kernelspec": {
   "name": "python3",
   "display_name": "Python 3.8.5 32-bit",
   "metadata": {
    "interpreter": {
     "hash": "03817587bd178a6fffcb9271e66c9c1ea7722011427ceebaf9cee7ff424aa13c"
    }
   }
  }
 },
 "nbformat": 4,
 "nbformat_minor": 2,
 "cells": [
  {
   "source": [
    "<h1>Introduction to Numpy</h1>\n",
    "\n",
    "In the following lessons you will learn:\n",
    "\n",
    "<ul>\n",
    "<li>How to import NumPy</li>\n",
    "<li>How to create multidimensional NumPy ndarrays using various methods</li>\n",
    "<li>How to access and change elements in ndarrays</li>\n",
    "<li>How to load and save ndarrays</li>\n",
    "<li>How to use slicing to select or change subsets of an ndarray</li>\n",
    "<li>Understand the difference between a view and a copy an of ndarray</li>\n",
    "<li>How to use Boolean indexing and set operations to select or change subsets of an ndarray</li>\n",
    "<li>How to sort ndarrays</li>\n",
    "<li>How to perform element-wise operations on ndarrays</li>\n",
    "<li>Understand how NumPy uses broadcasting to perform operations on ndarrays of different sizes. </li>\n",
    "</ul>"
   ],
   "cell_type": "markdown",
   "metadata": {}
  },
  {
   "cell_type": "code",
   "execution_count": 1,
   "metadata": {},
   "outputs": [],
   "source": [
    "# Why use Numpy?\n",
    "import numpy as np\n",
    "import time as time"
   ]
  },
  {
   "cell_type": "code",
   "execution_count": 2,
   "metadata": {},
   "outputs": [],
   "source": [
    "x = np.random.random(100000000)"
   ]
  },
  {
   "cell_type": "code",
   "execution_count": 3,
   "metadata": {},
   "outputs": [
    {
     "output_type": "stream",
     "name": "stdout",
     "text": [
      "Plain python - it took 38.88900136947632 seconds to calculate the average: 0.5000127661998851\n"
     ]
    },
    {
     "output_type": "execute_result",
     "data": {
      "text/plain": [
       "'\\nPlain python - it took `28.07101273536682` seconds to calculate the average: 0.4999669348542901\\n'"
      ]
     },
     "metadata": {},
     "execution_count": 3
    }
   ],
   "source": [
    "# case1 - using plain python\n",
    "\n",
    "start_time = time.time()\n",
    "average = sum(x) / len(x)\n",
    "\n",
    "print(f\"Plain python - it took {time.time() - start_time} seconds to calculate the average: {average}\")\n",
    "\n",
    "\"\"\"\n",
    "Plain python - it took `28.07101273536682` seconds to calculate the average: 0.4999669348542901\n",
    "\"\"\""
   ]
  },
  {
   "cell_type": "code",
   "execution_count": 4,
   "metadata": {},
   "outputs": [
    {
     "output_type": "stream",
     "name": "stdout",
     "text": [
      "using Numpy - it took 0.34699344635009766 seconds to calculate the average: 0.5000127661998417\n"
     ]
    },
    {
     "output_type": "execute_result",
     "data": {
      "text/plain": [
       "'\\nusing Numpy - it took [0.24601483345031738] seconds to calculate the average: 0.4999669348542858\\n'"
      ]
     },
     "metadata": {},
     "execution_count": 4
    }
   ],
   "source": [
    "# case 2 - using Numpy\n",
    "start_time = time.time()\n",
    "average = np.mean(x)\n",
    "\n",
    "print(f\"using Numpy - it took {time.time() - start_time} seconds to calculate the average: {average}\")\n",
    "\n",
    "\"\"\"\n",
    "using Numpy - it took [0.24601483345031738] seconds to calculate the average: 0.4999669348542858\n",
    "\"\"\""
   ]
  },
  {
   "source": [
    "## Creating and Saving NumPy ndarrays\n",
    "\n",
    "There are several ways to create ndarrays in NumPy. In the following lessons we will see two ways to create ndarrays:\n",
    "<ol>\n",
    "<li> Using regular Python lists\n",
    "<li> Using built-in NumPy functions"
   ],
   "cell_type": "markdown",
   "metadata": {}
  },
  {
   "cell_type": "code",
   "execution_count": 5,
   "metadata": {},
   "outputs": [
    {
     "output_type": "stream",
     "name": "stdout",
     "text": [
      "x = [1 2 3 4 5]\n"
     ]
    }
   ],
   "source": [
    "# we import NumPy into Python\n",
    "import numpy as np\n",
    "\n",
    "# we create a 1D ndarray that contains only integers\n",
    "x = np.array([1, 2, 3, 4, 5])   # np.array(list)\n",
    "\n",
    "# print the ndarray\n",
    "print(f\"x = {x}\")"
   ]
  },
  {
   "source": [
    "## Rank of an Array (numpy.ndarray.ndim)\n",
    "\n",
    "Syntax:\n",
    "\n",
    "`ndarray.ndim`  - x.ndim"
   ],
   "cell_type": "markdown",
   "metadata": {}
  },
  {
   "cell_type": "code",
   "execution_count": 6,
   "metadata": {},
   "outputs": [
    {
     "output_type": "execute_result",
     "data": {
      "text/plain": [
       "1"
      ]
     },
     "metadata": {},
     "execution_count": 6
    }
   ],
   "source": [
    "# we get the Rank of an array (1 - D , 2 - D , N - D arrays)\n",
    "\n",
    "# 1-D array (contains list - 1 refers to square brackets number)\n",
    "x = np.array([1, 2, 3])\n",
    "x.ndim"
   ]
  },
  {
   "cell_type": "code",
   "execution_count": 7,
   "metadata": {},
   "outputs": [
    {
     "output_type": "execute_result",
     "data": {
      "text/plain": [
       "2"
      ]
     },
     "metadata": {},
     "execution_count": 7
    }
   ],
   "source": [
    "# 2-D array (contains list of lists - 2 refers to square brackets number)\n",
    "Y = np.array(\n",
    "    [[1,2,3],\n",
    "    [4,5,6],\n",
    "    [7,8,9],\n",
    "    [10,11,12]]\n",
    "    )\n",
    "Y.ndim"
   ]
  },
  {
   "cell_type": "code",
   "execution_count": 8,
   "metadata": {},
   "outputs": [
    {
     "output_type": "execute_result",
     "data": {
      "text/plain": [
       "3"
      ]
     },
     "metadata": {},
     "execution_count": 8
    }
   ],
   "source": [
    "# Here the`zeros()` is an inbuilt function that you'll study on the next page.\n",
    "# The tuple (2, 3, 4( passed as an argument represents the shape of the ndarray\n",
    "\n",
    "y = np.zeros((2,3,4))\n",
    "y.ndim"
   ]
  },
  {
   "source": [
    "## (Shape of an array) numpy.ndarray.shape\n",
    "عدد الصفوف وعدد الأعمدة\n",
    "\n",
    "Syntax:\n",
    "\n",
    "`ndarray.shape`     - x.shape\n",
    "\n",
    "<b>It returns a tuple representing the array dimensions </b>"
   ],
   "cell_type": "markdown",
   "metadata": {}
  },
  {
   "source": [],
   "cell_type": "markdown",
   "metadata": {}
  },
  {
   "source": [
    "## Type of array elements\n",
    "نوع العناصر اللى جوة المصفوفة\n",
    "\n",
    "(Elements of an array are of type {int32})\n",
    "\n",
    "Syntax:\n",
    "\n",
    "`ndarray.dtype`     - x.dtype\n",
    "\n",
    "<b>The type tells us the data-type of the elements.  </b>"
   ],
   "cell_type": "markdown",
   "metadata": {}
  },
  {
   "source": [
    "### Example 1.a - Using a 1-D Array of Integers\n"
   ],
   "cell_type": "markdown",
   "metadata": {}
  },
  {
   "cell_type": "code",
   "execution_count": 9,
   "metadata": {},
   "outputs": [
    {
     "output_type": "stream",
     "name": "stdout",
     "text": [
      " x = [1 2 3 4 5]\n x has dimensions: (5,)\n x is an object of type: <class 'numpy.ndarray'>\n the elements of x are of type int32\n"
     ]
    }
   ],
   "source": [
    "# We create a 1D ndarray that contains only integers\n",
    "x = np.array([1, 2, 3, 4, 5])\n",
    "\n",
    "# We print information about x\n",
    "print(f\" x = {x}\")\n",
    "print(f\" x has dimensions: {x.shape}\")              # (5,)\n",
    "print(f\" x is an object of type: {type(x)}\")        # `ndarray`\n",
    "print(f\" the elements of x are of type {x.dtype}\")  # int64 - x are stored in memory as signed 64-bit integers"
   ]
  },
  {
   "source": [
    "### Example 1.b - Using 1-D Array of Strings\n"
   ],
   "cell_type": "markdown",
   "metadata": {}
  },
  {
   "cell_type": "code",
   "execution_count": 10,
   "metadata": {},
   "outputs": [
    {
     "output_type": "stream",
     "name": "stdout",
     "text": [
      " x = ['Hello' 'World']\n x has dimensions: (2,) \n x is an object of a type: <class 'numpy.ndarray'>\n the elements of x are a type: <U5\n"
     ]
    }
   ],
   "source": [
    "# We create a rank 1 ndarray that only contains strings\n",
    "x = np.array(['Hello', 'World'])\n",
    "\n",
    "# هنطبع حبة معلومات عن المصفوفة، زى عدد الصفوف والأعمدة(الشيب)، ونوع العناصر بداخل المصفوفة(الدى تايب )، ونوع المصفوفة (التايب)\n",
    "print(f\" x = {x}\")\n",
    "print(f\" x has dimensions: {x.shape} \")             # (2,)\n",
    "print(f\" x is an object of a type: {type(x)}\")\n",
    "print(f\" the elements of x are a type: {x.dtype}\")  # U5 - Unicode strings of 5 characters."
   ]
  },
  {
   "source": [
    "### Example 1.c - Using a 1-D Array of Mixed Datatype\n"
   ],
   "cell_type": "markdown",
   "metadata": {}
  },
  {
   "cell_type": "code",
   "execution_count": 11,
   "metadata": {},
   "outputs": [
    {
     "output_type": "stream",
     "name": "stdout",
     "text": [
      " x = ['1' '2' 'World']\n x has dimensions: (3,) \n x is an object of a type: <class 'numpy.ndarray'>\n the elements of x are a type: <U11\n"
     ]
    }
   ],
   "source": [
    "# We create a rank 1 ndarray from a Python list that contains integers and strings\n",
    "x = np.array([1, 2, 'World'])\n",
    "\n",
    "# هنطبع حبة معلومات عن المصفوفة، زى عدد الصفوف والأعمدة(الشيب)، ونوع العناصر بداخل المصفوفة(الدى تايب )، ونوع المصفوفة (التايب)\n",
    "print(f\" x = {x}\")\n",
    "print(f\" x has dimensions: {x.shape} \")             # (3,)\n",
    "print(f\" x is an object of a type: {type(x)}\")\n",
    "print(f\" the elements of x are a type: {x.dtype}\")  # U11 - Unicode strings of 11 characters."
   ]
  },
  {
   "source": [
    "## Using a 1-D Array to Demonstrate Upcasting in Numeric datatype\n"
   ],
   "cell_type": "markdown",
   "metadata": {}
  },
  {
   "source": [
    "### Example 1.d - Using a 1-D Array of Int and Float\n"
   ],
   "cell_type": "markdown",
   "metadata": {}
  },
  {
   "cell_type": "code",
   "execution_count": 12,
   "metadata": {},
   "outputs": [
    {
     "output_type": "stream",
     "name": "stdout",
     "text": [
      "The elements in x are of type: int32\n",
      "The elements in x are of type: float64\n",
      "The elements in x are of type: float64\n"
     ]
    }
   ],
   "source": [
    "# We create a rank 1 ndarray that contains integers\n",
    "x = np.array([1,2,3])\n",
    "\n",
    "# We create a rank 1 ndarray that contains floats\n",
    "y = np.array([1.0,2.0,3.0])\n",
    "\n",
    "# We create a rank 1 ndarray that contains integers and floats\n",
    "z = np.array([1, 2.5, 4])\n",
    "\n",
    "# We print the dtype of each ndarray\n",
    "print('The elements in x are of type:', x.dtype)    # int64\n",
    "print('The elements in x are of type:', y.dtype)    # float64\n",
    "print('The elements in x are of type:', z.dtype)    # float64"
   ]
  },
  {
   "source": [
    "### Example 1.e - Using a 1-D Array of Float, and specifying the datatype of each element as int64 \n",
    "\n",
    "(Casting a 1-D Array of Float to an array of integers)"
   ],
   "cell_type": "markdown",
   "metadata": {}
  },
  {
   "cell_type": "code",
   "execution_count": 13,
   "metadata": {},
   "outputs": [
    {
     "output_type": "stream",
     "name": "stdout",
     "text": [
      "x =  [1 2 3 4 5]\nThe elements in x are of type: int64\n"
     ]
    }
   ],
   "source": [
    "# We create a rank 1 ndarray of floats but set the dtype to int64\n",
    "x = np.array([1.5, 2.2, 3.7, 4.0, 5.9], dtype = np.int64)\n",
    "\n",
    "# We print the dtype x\n",
    "print('x = ', x)\n",
    "print('The elements in x are of type:', x.dtype)"
   ]
  },
  {
   "source": [
    "## (Size of an array - عدد عناصر المصفوفة) x.size\n",
    "numpy.ndarray.size & Creating a 2-D array\n"
   ],
   "cell_type": "markdown",
   "metadata": {}
  },
  {
   "source": [
    "### Example 2 - Using a 2-D Array (Rank #2 Array)\n",
    "\n"
   ],
   "cell_type": "markdown",
   "metadata": {}
  },
  {
   "cell_type": "code",
   "execution_count": 14,
   "metadata": {},
   "outputs": [
    {
     "output_type": "stream",
     "name": "stdout",
     "text": [
      " Y (a rank 2 array): \n [[ 1  2  3]\n [ 4  5  6]\n [ 7  8  9]\n [10 11 12]] \n Y has dimensions of: (4, 3)\n Y has a total of 12 elements \n Y is an object of type: <class 'numpy.ndarray'>\n The elements in Y are of type: int32\n"
     ]
    }
   ],
   "source": [
    "# We create a rank 2 ndarray that only contains integers\n",
    "Y = np.array([ \n",
    "    [1,2,3], \n",
    "    [4,5,6],\n",
    "    [7,8,9], \n",
    "    [10,11,12]\n",
    "    ])\n",
    "\n",
    "# We print information about Y\n",
    "print(f\" Y (a rank 2 array): \\n {Y} \")\n",
    "print(f\" Y has dimensions of: {Y.shape}\")\n",
    "print(f\" Y has a total of {Y.size} elements \")\n",
    "print(f\" Y is an object of type: {type(Y)}\")\n",
    "print(f\" The elements in Y are of type: {Y.dtype}\")\n"
   ]
  },
  {
   "source": [
    "## Save the NumPy array to a File\n"
   ],
   "cell_type": "markdown",
   "metadata": {}
  },
  {
   "source": [
    "### Example 3 - Save the NumPy array to a File\n"
   ],
   "cell_type": "markdown",
   "metadata": {}
  },
  {
   "cell_type": "code",
   "execution_count": 15,
   "metadata": {},
   "outputs": [],
   "source": [
    "# We create a rank 1 ndarray\n",
    "x = np.array([1, 2, 3, 4, 5])\n",
    "\n",
    "# We save x into the current directory as \"saved_array\"\n",
    "np.save(\"saved_array\",x)"
   ]
  },
  {
   "source": [
    "### Example 3.1 - Load the NumPy array from our current directory\n"
   ],
   "cell_type": "markdown",
   "metadata": {}
  },
  {
   "cell_type": "code",
   "execution_count": 16,
   "metadata": {},
   "outputs": [
    {
     "output_type": "stream",
     "name": "stdout",
     "text": [
      " y:\t[1 2 3 4 5]\n\n y shape is: (5,) has 5 rows and 0 columns\n y has total of 5 elements\n y is an object of type: <class 'numpy.ndarray'>\n the type of y elements is: int32\n"
     ]
    }
   ],
   "source": [
    "# We load the saved array from our current directory into variable y\n",
    "y = np.load(\"saved_array.npy\")\n",
    "\n",
    "# we print y\n",
    "print(f\" y:\\t{y}\\n\")\n",
    "\n",
    "# we define a function to avoid geting `index error`, when calling a tuple parameters\n",
    "def shape_rows_cols():\n",
    "    shape_list = []\n",
    "    for index in range(y.ndim + 1):\n",
    "        try:\n",
    "            shape_list.append(y.shape[index])\n",
    "        except IndexError:\n",
    "            shape_list.append(0)\n",
    "    return shape_list\n",
    "\n",
    "\n",
    "# We print information about the ndarray we loaded\n",
    "print(f\" y shape is: {y.shape} has {shape_rows_cols()[0]} rows and {shape_rows_cols()[1]} columns\")\n",
    "print(f\" y has total of {y.size} elements\")\n",
    "print(f\" y is an object of type: {type(y)}\")\n",
    "print(f\" the type of y elements is: {y.dtype}\")\n",
    "\n",
    "\n"
   ]
  },
  {
   "source": [
    "## Quiz: Creating and Saving NumPy ndarrays\n"
   ],
   "cell_type": "markdown",
   "metadata": {}
  },
  {
   "cell_type": "code",
   "execution_count": 17,
   "metadata": {},
   "outputs": [
    {
     "output_type": "stream",
     "name": "stdout",
     "text": [
      "Letters Array is: ['a' 'b' 'c' 'd' 'e' 'f' 'g' 'h' 'i' 'j']\n The elements of Letters Array are of <U1 type\n letters array shape is: (10,) has 10 rows and 0 columns\n letters_array has total of 10 elements\n"
     ]
    }
   ],
   "source": [
    "import numpy as np\n",
    "\n",
    "# create numpy array of letters a-j\n",
    "letter_array =np.array(['a','b','c','d','e','f','g','h','i','j'])\n",
    "\n",
    "print(f\"Letters Array is: {letter_array}\")\n",
    "\n",
    "# get dtype of array\n",
    "print(f\" The elements of Letters Array are of {letter_array.dtype} type\")\n",
    "\n",
    "\n",
    "# get shape of array\n",
    "\n",
    "# we define a function to avoid geting `index error`, when calling a tuple parameters\n",
    "def shape_rows_cols():\n",
    "    shape_list = []\n",
    "    for index in range(letter_array.ndim + 1):\n",
    "        try:\n",
    "            shape_list.append(letter_array.shape[index])\n",
    "        except IndexError:\n",
    "            shape_list.append(0)\n",
    "    return shape_list\n",
    "\n",
    "\n",
    "print(f\" letters array shape is: {letter_array.shape} has {shape_rows_cols()[0]} rows and {shape_rows_cols()[1]} columns\")\n",
    "\n",
    "\n",
    "# get size of array\n",
    "print(f\" letters_array has total of {letter_array.size} elements\")\n"
   ]
  },
  {
   "source": [
    "# Using Built-in Functions to Create ndarrays (Quiz 2)\n"
   ],
   "cell_type": "markdown",
   "metadata": {}
  },
  {
   "source": [
    "### Example 1. Create a Numpy array of zeros with a desired shape\n"
   ],
   "cell_type": "markdown",
   "metadata": {}
  },
  {
   "cell_type": "code",
   "execution_count": 18,
   "metadata": {},
   "outputs": [
    {
     "output_type": "stream",
     "name": "stdout",
     "text": [
      "X= \n[[0. 0. 0. 0.]\n [0. 0. 0. 0.]\n [0. 0. 0. 0.]]\n\nX shape: (3, 4)\nX Size: 12\nX type: <class 'numpy.ndarray'>\nX elements type: float64\nX ndim: 2\n"
     ]
    }
   ],
   "source": [
    "# We create a 3 x 4 ndarray full of zeros. \n",
    "X = np.zeros((3,4))\n",
    "\n",
    "# We print X\n",
    "print(f\"X= \\n{X}\\n\")\n",
    "\n",
    "# We print information about X (shape - size - type - dtype - ndim{number of axis(rows,columns)} - )\n",
    "print(f\"X shape: {X.shape}\")\n",
    "print(f\"X Size: {X.size}\")\n",
    "print(f\"X type: {type(X)}\")\n",
    "print(f\"X elements type: {X.dtype}\")\n",
    "print(f\"X ndim: {X.ndim}\")"
   ]
  },
  {
   "source": [
    "### Example 2. Create a Numpy array of ones\n"
   ],
   "cell_type": "markdown",
   "metadata": {}
  },
  {
   "cell_type": "code",
   "execution_count": 19,
   "metadata": {},
   "outputs": [
    {
     "output_type": "stream",
     "name": "stdout",
     "text": [
      "X= \n[[1. 1.]\n [1. 1.]\n [1. 1.]]\n\n X has dimensions: (3, 2)\n X Size: 6\n X is an object of type: <class 'numpy.ndarray'>\n The elements in X are of type: float64\n The number of X axis: 2\n"
     ]
    }
   ],
   "source": [
    "# We create a 3 x 2 ndarray full of ones. \n",
    "X = np.ones((3,2))\n",
    "\n",
    "# We print X\n",
    "print(f\"X= \\n{X}\\n\")\n",
    "\n",
    "# We print information about X (shape - size - type - dtype - ndim{number of axis(rows,columns)} )\n",
    "print(f\" X has dimensions: {X.shape}\")\n",
    "print(f\" X Size: {X.size}\")\n",
    "print(f\" X is an object of type: {type(X)}\")\n",
    "print(f\" The elements in X are of type: {X.dtype}\")\n",
    "print(f\" The number of X axis: {X.ndim}\")"
   ]
  },
  {
   "source": [
    "### Example 3. Create a Numpy array of constants\n"
   ],
   "cell_type": "markdown",
   "metadata": {}
  },
  {
   "cell_type": "code",
   "execution_count": 20,
   "metadata": {},
   "outputs": [
    {
     "output_type": "stream",
     "name": "stdout",
     "text": [
      "X= \n[[5 5 5]\n [5 5 5]]\n\n X has dimensions: (2, 3)\n X Size: 6\n X is an object of type: <class 'numpy.ndarray'>\n The elements in X are of type: int32\n The number of X axis: 2\n"
     ]
    }
   ],
   "source": [
    "# We create a 3 x 2 ndarray full of ones. \n",
    "X = np.full((2,3),5)\n",
    "\n",
    "# We print X\n",
    "print(f\"X= \\n{X}\\n\")\n",
    "\n",
    "# We print information about X (shape - size - type - dtype - ndim{number of axis(rows,columns)} )\n",
    "print(f\" X has dimensions: {X.shape}\")\n",
    "print(f\" X Size: {X.size}\")\n",
    "print(f\" X is an object of type: {type(X)}\")\n",
    "print(f\" The elements in X are of type: {X.dtype}\")\n",
    "print(f\" The number of X axis: {X.ndim}\")"
   ]
  },
  {
   "source": [
    "### Example 4 a. Create a Numpy array of an (eye)dentity matrix\n",
    "\n",
    "مصفوفة القطر بتاعها ب 1 والباقى 0\n"
   ],
   "cell_type": "markdown",
   "metadata": {}
  },
  {
   "cell_type": "code",
   "execution_count": 21,
   "metadata": {},
   "outputs": [
    {
     "output_type": "stream",
     "name": "stdout",
     "text": [
      "X= \n[[1. 0. 0. 0. 0.]\n [0. 1. 0. 0. 0.]\n [0. 0. 1. 0. 0.]\n [0. 0. 0. 1. 0.]\n [0. 0. 0. 0. 1.]]\n\n X has dimensions: (5, 5)\n X Size: 25\n X is an object of type: <class 'numpy.ndarray'>\n The elements in X are of type: float64\n The number of X axis: 2\n"
     ]
    }
   ],
   "source": [
    "# We create a 3 x 2 ndarray full of ones. \n",
    "X = np.eye((5))\n",
    "\n",
    "# We print X\n",
    "print(f\"X= \\n{X}\\n\")\n",
    "\n",
    "# We print information about X (shape - size - type - dtype - ndim{number of axis(rows,columns)} )\n",
    "print(f\" X has dimensions: {X.shape}\")\n",
    "print(f\" X Size: {X.size}\")\n",
    "print(f\" X is an object of type: {type(X)}\")\n",
    "print(f\" The elements in X are of type: {X.dtype}\")\n",
    "print(f\" The number of X axis: {X.ndim}\")"
   ]
  },
  {
   "source": [
    "### Example 4 b. Create a Numpy array of constants\n"
   ],
   "cell_type": "markdown",
   "metadata": {}
  },
  {
   "cell_type": "code",
   "execution_count": 22,
   "metadata": {},
   "outputs": [
    {
     "output_type": "stream",
     "name": "stdout",
     "text": [
      "X= \n[[10  0  0  0]\n [ 0 20  0  0]\n [ 0  0 30  0]\n [ 0  0  0 50]]\n\n X has dimensions: (4, 4)\n X Size: 16\n X is an object of type: <class 'numpy.ndarray'>\n The elements in X are of type: int32\n The number of X axis: 2\n"
     ]
    }
   ],
   "source": [
    "# We create a 3 x 2 ndarray full of ones. \n",
    "X = np.diag([10,20,30,50])\n",
    "\n",
    "# We print X\n",
    "print(f\"X= \\n{X}\\n\")\n",
    "\n",
    "# We print information about X (shape - size - type - dtype - ndim{number of axis(rows,columns)} )\n",
    "print(f\" X has dimensions: {X.shape}\")\n",
    "print(f\" X Size: {X.size}\")\n",
    "print(f\" X is an object of type: {type(X)}\")\n",
    "print(f\" The elements in X are of type: {X.dtype}\")\n",
    "print(f\" The number of X axis: {X.ndim}\")"
   ]
  },
  {
   "source": [
    "## numpy.arange\n",
    "\n",
    "Syntax:\n",
    "\n",
    "`numpy.arange([start, ]stop, [step, ]dtype=None)`"
   ],
   "cell_type": "markdown",
   "metadata": {}
  },
  {
   "source": [
    "### Example 5. Create a Numpy array of evenly spaced values in a given range, using \n",
    "`arange(stop_val)`"
   ],
   "cell_type": "markdown",
   "metadata": {}
  },
  {
   "cell_type": "code",
   "execution_count": 23,
   "metadata": {},
   "outputs": [
    {
     "output_type": "stream",
     "name": "stdout",
     "text": [
      "X= \n[0 2 4 6 8]\n\n X has dimensions: (5,)\n X Size: 5\n X is an object of type: <class 'numpy.ndarray'>\n The elements in X are of type: int32\n The number of X axis: 1\n"
     ]
    }
   ],
   "source": [
    "X = np.arange(0,10,2)\n",
    "\n",
    "# We print X\n",
    "print(f\"X= \\n{X}\\n\")\n",
    "\n",
    "# We print information about X (shape - size - type - dtype - ndim{number of axis(rows,columns)} )\n",
    "print(f\" X has dimensions: {X.shape}\")\n",
    "print(f\" X Size: {X.size}\")\n",
    "print(f\" X is an object of type: {type(X)}\")\n",
    "print(f\" The elements in X are of type: {X.dtype}\")\n",
    "print(f\" The number of X axis: {X.ndim}\")"
   ]
  },
  {
   "source": [
    "### Example 6. Create a Numpy array using \n",
    "`arange(start_val, stop_val)`"
   ],
   "cell_type": "markdown",
   "metadata": {}
  },
  {
   "cell_type": "code",
   "execution_count": 24,
   "metadata": {},
   "outputs": [
    {
     "output_type": "stream",
     "name": "stdout",
     "text": [
      "\nx =  [4 5 6 7 8 9]\n\nx has dimensions: (6,)\nx is an object of type: <class 'numpy.ndarray'>\nThe elements in x are of type: int32\n"
     ]
    }
   ],
   "source": [
    "# We create a rank 1 ndarray that has sequential integers from 4 to 9. \n",
    "x = np.arange(4,10)\n",
    "\n",
    "# We print the ndarray\n",
    "print()\n",
    "print('x = ', x)\n",
    "print()\n",
    "\n",
    "# We print information about the ndarray\n",
    "print('x has dimensions:', x.shape)\n",
    "print('x is an object of type:', type(x))\n",
    "print('The elements in x are of type:', x.dtype) "
   ]
  },
  {
   "source": [
    "### Example 7. Create a Numpy array using \n",
    "`arange(start_val, stop_val, step_size)`"
   ],
   "cell_type": "markdown",
   "metadata": {}
  },
  {
   "cell_type": "code",
   "execution_count": 25,
   "metadata": {},
   "outputs": [
    {
     "output_type": "stream",
     "name": "stdout",
     "text": [
      "\n",
      "x =  [ 1  4  7 10 13]\n",
      "\n",
      "x has dimensions: (5,)\n",
      "x is an object of type: <class 'numpy.ndarray'>\n",
      "The elements in x are of type: int32\n"
     ]
    }
   ],
   "source": [
    "# We create a rank 1 ndarray that has evenly spaced integers from 1 to 13 in steps of 3.\n",
    "x = np.arange(1,14,3)\n",
    "\n",
    "# We print the ndarray\n",
    "print()\n",
    "print('x = ', x)\n",
    "print()\n",
    "\n",
    "# We print information about the ndarray\n",
    "print('x has dimensions:', x.shape)\n",
    "print('x is an object of type:', type(x))\n",
    "print('The elements in x are of type:', x.dtype)"
   ]
  },
  {
   "source": [
    "## numpy.linspace\n",
    "Syntax:\n",
    "\n",
    "`numpy.linspace(start, stop, num=50, endpoint=True, retstep=False, dtype=None, axis=0)`"
   ],
   "cell_type": "markdown",
   "metadata": {}
  },
  {
   "source": [
    "### Example 8. Create a Numpy array using \n",
    "`linspace(start, stop, n)` , with stop inclusive."
   ],
   "cell_type": "markdown",
   "metadata": {}
  },
  {
   "cell_type": "code",
   "execution_count": 27,
   "metadata": {},
   "outputs": [
    {
     "output_type": "stream",
     "name": "stdout",
     "text": [
      "\nx = \n [ 0.          2.77777778  5.55555556  8.33333333 11.11111111 13.88888889\n 16.66666667 19.44444444 22.22222222 25.        ]\n\n(10,) - 10 - <class 'numpy.ndarray'> - float64 - 1 \n"
     ]
    }
   ],
   "source": [
    "# We create a rank 1 ndarray that has 10 integers evenly spaced between 0 and 25.\n",
    "x = np.linspace(0,25,10, )    #num = num of integers(10)\n",
    "\n",
    "# We print the ndarray\n",
    "print()\n",
    "print('x = \\n', x)\n",
    "print()\n",
    "\n",
    "# We print information about the ndarray\n",
    "print(f\"{x.shape} - {x.size} - {type(x)} - {x.dtype} - {x.ndim} \")"
   ]
  },
  {
   "source": [
    "### Example 9. Create a Numpy array using \n",
    "`linspace(start, stop, n)`, with stop excluded."
   ],
   "cell_type": "markdown",
   "metadata": {}
  },
  {
   "cell_type": "code",
   "execution_count": 28,
   "metadata": {},
   "outputs": [
    {
     "output_type": "stream",
     "name": "stdout",
     "text": [
      "\nx =  [ 0.   2.5  5.   7.5 10.  12.5 15.  17.5 20.  22.5]\n\nx has dimensions: (10,)\nx is an object of type: <class 'numpy.ndarray'>\nThe elements in x are of type: float64\n"
     ]
    }
   ],
   "source": [
    "# We create a rank 1 ndarray that has 10 integers evenly spaced between 0 and 25,\n",
    "# with 25 excluded.\n",
    "x = np.linspace(0,25,10, endpoint=False)\n",
    "\n",
    "# We print the ndarray\n",
    "print()\n",
    "print('x = ', x)\n",
    "print()\n",
    "\n",
    "# We print information about the ndarray\n",
    "print('x has dimensions:', x.shape)\n",
    "print('x is an object of type:', type(x))\n",
    "print('The elements in x are of type:', x.dtype) "
   ]
  },
  {
   "source": [
    "### Example 10. Create a Numpy array by feeding the output of `arange()` function to the  `reshape()` function.\n",
    "Here, `arange()` function will give you a 1-D array, whereas the `reshape()` function will convert that 1-D array into a  desired shape. **Remember, that the  `size` of the final output must be as same as the `size` of the initial  1-D array."
   ],
   "cell_type": "markdown",
   "metadata": {}
  },
  {
   "cell_type": "code",
   "execution_count": 29,
   "metadata": {},
   "outputs": [
    {
     "output_type": "stream",
     "name": "stdout",
     "text": [
      "\nOriginal x =  [ 0  1  2  3  4  5  6  7  8  9 10 11 12 13 14 15 16 17 18 19]\n\n\nReshaped x = \n [[ 0  1  2  3  4]\n [ 5  6  7  8  9]\n [10 11 12 13 14]\n [15 16 17 18 19]]\n\nx has dimensions: (4, 5)\nx is an object of type: <class 'numpy.ndarray'>\nThe elements in x are of type: int32\n"
     ]
    }
   ],
   "source": [
    "# We create a rank 1 ndarray with sequential integers from 0 to 19\n",
    "x = np.arange(20)\n",
    "\n",
    "# We print x\n",
    "print()\n",
    "print('Original x = ', x)\n",
    "print()\n",
    "\n",
    "# We reshape x into a 4 x 5 ndarray \n",
    "x = np.reshape(x,(4,5))\n",
    "\n",
    "# We print the reshaped x\n",
    "print()\n",
    "print('Reshaped x = \\n', x)\n",
    "print()\n",
    "\n",
    "# We print information about the reshaped x\n",
    "print('x has dimensions:', x.shape)\n",
    "print('x is an object of type:', type(x))\n",
    "print('The elements in x are of type:', x.dtype) "
   ]
  },
  {
   "source": [
    "### Example 11. Create a Numpy array by calling the `reshape()` function from the output of `arange()` function.\n",
    "Notice the change in the arguments of `reshape()`"
   ],
   "cell_type": "markdown",
   "metadata": {}
  },
  {
   "cell_type": "code",
   "execution_count": 31,
   "metadata": {},
   "outputs": [
    {
     "output_type": "stream",
     "name": "stdout",
     "text": [
      "\nY = \n [[ 0  1  2  3  4]\n [ 5  6  7  8  9]\n [10 11 12 13 14]\n [15 16 17 18 19]]\n\nY has dimensions: (4, 5)\nY is an object of type: <class 'numpy.ndarray'>\nThe elements in Y are of type: int32\n"
     ]
    }
   ],
   "source": [
    "# We create a a rank 1 ndarray with sequential integers from 0 to 19 and\n",
    "# reshape it to a 4 x 5 array \n",
    "Y = np.arange(20).reshape(4,5)\n",
    "\n",
    "# We print Y\n",
    "print()\n",
    "print('Y = \\n', Y)\n",
    "print()\n",
    "\n",
    "# We print information about Y\n",
    "print('Y has dimensions:', Y.shape)\n",
    "print('Y is an object of type:', type(Y))\n",
    "print('The elements in Y are of type:', Y.dtype)"
   ]
  },
  {
   "source": [
    "### Example 12. Create a rank 2 Numpy array by using the `reshape()` function."
   ],
   "cell_type": "markdown",
   "metadata": {}
  },
  {
   "cell_type": "code",
   "execution_count": 32,
   "metadata": {},
   "outputs": [
    {
     "output_type": "stream",
     "name": "stdout",
     "text": [
      "\nX = \n [[ 0.  5.]\n [10. 15.]\n [20. 25.]\n [30. 35.]\n [40. 45.]]\n\nX has dimensions: (5, 2)\nX is an object of type: <class 'numpy.ndarray'>\nThe elements in X are of type: float64\n"
     ]
    }
   ],
   "source": [
    "# We create a rank 1 ndarray with 10 integers evenly spaced between 0 and 50,\n",
    "# with 50 excluded. We then reshape it to a 5 x 2 ndarray\n",
    "X = np.linspace(0,50,10,endpoint=False).reshape(5,2)\n",
    "\n",
    "# We print X\n",
    "print()\n",
    "print('X = \\n', X)\n",
    "print()\n",
    "\n",
    "# We print information about X\n",
    "print('X has dimensions:', X.shape)\n",
    "print('X is an object of type:', type(X))\n",
    "print('The elements in X are of type:', X.dtype)"
   ]
  },
  {
   "source": [
    "### Example 13. Create a Numpy array using the `numpy.random.random()` function. "
   ],
   "cell_type": "markdown",
   "metadata": {}
  },
  {
   "cell_type": "code",
   "execution_count": 35,
   "metadata": {},
   "outputs": [
    {
     "output_type": "stream",
     "name": "stdout",
     "text": [
      "\nX = \n [[0.33667656 0.07302773 0.69967768]\n [0.1396164  0.4357127  0.42964831]\n [0.28983896 0.20643928 0.08686292]]\n\nX has dimensions: (3, 3)\nX is an object of type: <class 'numpy.ndarray'>\nThe elements in x are of type: float64\n"
     ]
    }
   ],
   "source": [
    "# We create a 3 x 3 ndarray with random floats in the half-open interval [0.0, 1.0).\n",
    "X = np.random.random((3,3))\n",
    "\n",
    "# We print X\n",
    "print()\n",
    "print('X = \\n', X)\n",
    "print()\n",
    "\n",
    "# We print information about X\n",
    "print('X has dimensions:', X.shape)\n",
    "print('X is an object of type:', type(X))\n",
    "print('The elements in x are of type:', X.dtype)"
   ]
  },
  {
   "source": [
    "### Example 14. Create a Numpy array  using the `numpy.random.randint()` function. "
   ],
   "cell_type": "markdown",
   "metadata": {}
  },
  {
   "cell_type": "code",
   "execution_count": 36,
   "metadata": {},
   "outputs": [
    {
     "output_type": "stream",
     "name": "stdout",
     "text": [
      "\nX = \n [[10  9]\n [ 6  5]\n [14  7]]\n\nX has dimensions: (3, 2)\nX is an object of type: <class 'numpy.ndarray'>\nThe elements in X are of type: int32\n"
     ]
    }
   ],
   "source": [
    "# We create a 3 x 2 ndarray with random integers in the half-open interval [4, 15).\n",
    "\n",
    "X = np.random.randint(4,15,size=(3,2))  #randint(1st interval, 2nd open interval, (tuple of dimensions))\n",
    "\n",
    "# We print X\n",
    "print()\n",
    "print('X = \\n', X)\n",
    "print()\n",
    "\n",
    "# We print information about X\n",
    "print('X has dimensions:', X.shape)\n",
    "print('X is an object of type:', type(X))\n",
    "print('The elements in X are of type:', X.dtype)"
   ]
  },
  {
   "source": [
    "### Example 15. Create a Numpy array of \"Normal\" distributed random numbers, using the `numpy.random.normal()` function. "
   ],
   "cell_type": "markdown",
   "metadata": {}
  },
  {
   "cell_type": "code",
   "execution_count": 38,
   "metadata": {},
   "outputs": [
    {
     "output_type": "stream",
     "name": "stdout",
     "text": [
      "\nX = \n [[-0.05161539 -0.1098724   0.00780874 ... -0.0366571  -0.07892038\n  -0.09289829]\n [-0.01806215  0.04601715 -0.01720454 ... -0.13511219 -0.05163215\n  -0.10172677]\n [-0.20891438  0.07293792 -0.23255732 ...  0.03537024  0.01110465\n   0.05285507]\n ...\n [-0.11759123 -0.20973654 -0.05987486 ... -0.01639962  0.04196009\n   0.23406572]\n [-0.20042179 -0.16248714 -0.1116584  ...  0.09643719 -0.01018633\n   0.08183666]\n [-0.07246749 -0.04280439 -0.13189006 ... -0.08292032 -0.13492282\n   0.07144316]]\n\nX has dimensions: (1000, 1000)\nX is an object of type: <class 'numpy.ndarray'>\nThe elements in X are of type: float64\nThe elements in X have a mean of: 3.5663115046110165e-05\nThe maximum value in X is: 0.4872152900881126\nThe minimum value in X is: -0.4668190098921501\nX has 499778 negative numbers\nX has 500222 positive numbers\n"
     ]
    }
   ],
   "source": [
    "# We create a 1000 x 1000 ndarray of random floats drawn from normal (Gaussian) distribution\n",
    "# with a mean of zero and a standard deviation of 0.1.\n",
    "X = np.random.normal(loc=0,scale=0.1,size=(1000,1000)) # loc:mean - scale: st.dev - size:(tuple of dimensions)\n",
    "\n",
    "# We print X\n",
    "print()\n",
    "print('X = \\n', X)\n",
    "print()\n",
    "\n",
    "# We print information about X\n",
    "print('X has dimensions:', X.shape)\n",
    "print('X is an object of type:', type(X))\n",
    "print('The elements in X are of type:', X.dtype)\n",
    "print('The elements in X have a mean of:', X.mean())\n",
    "print('The maximum value in X is:', X.max())\n",
    "print('The minimum value in X is:', X.min())\n",
    "print('X has', (X < 0).sum(), 'negative numbers')\n",
    "print(f\"X has {(X > 0).sum()} positive numbers\")"
   ]
  },
  {
   "source": [
    "## Accessing, Deleting, and Inserting Elements Into ndarrays\n"
   ],
   "cell_type": "markdown",
   "metadata": {}
  },
  {
   "source": [
    "### Example 1. Access individual elements of 1-D array\n"
   ],
   "cell_type": "markdown",
   "metadata": {}
  },
  {
   "cell_type": "code",
   "execution_count": 40,
   "metadata": {},
   "outputs": [
    {
     "output_type": "stream",
     "name": "stdout",
     "text": [
      "\nx =  [1 2 3 4 5]\n\nThis is First Element in x: 1\nThis is Second Element in x: 2\nThis is Fifth (Last) Element in x: 5\n\nThis is First Element in x: 1\nThis is Second Element in x: 2\nThis is Fifth (Last) Element in x: 5\n"
     ]
    }
   ],
   "source": [
    "import numpy as np\n",
    "\n",
    "# We create a rank 1 ndarray that contains integers from 1 to 5\n",
    "x = np.arange(1,6,dtype=int)\n",
    "\n",
    "\n",
    "# We print x\n",
    "print()\n",
    "print('x = ', x)\n",
    "print()\n",
    "\n",
    "# Let's access some elements with positive indices\n",
    "print('This is First Element in x:', x[0]) \n",
    "print('This is Second Element in x:', x[1])\n",
    "print('This is Fifth (Last) Element in x:', x[4])\n",
    "print()\n",
    "\n",
    "\n",
    "# Let's access the same elements with negative indices\n",
    "print('This is First Element in x:', x[-5])\n",
    "print('This is Second Element in x:', x[-4])\n",
    "print('This is Fifth (Last) Element in x:', x[-1])"
   ]
  },
  {
   "source": [
    "### Example 2. Modify an element of 1-D array"
   ],
   "cell_type": "markdown",
   "metadata": {}
  },
  {
   "cell_type": "code",
   "execution_count": 42,
   "metadata": {},
   "outputs": [
    {
     "output_type": "stream",
     "name": "stdout",
     "text": [
      "\nOriginal:\n x =  [1. 2. 3. 4. 5.]\n\nModified:\n x =  [ 1.  2.  3. 20.  5.]\n"
     ]
    }
   ],
   "source": [
    "# We create a rank 1 ndarray that contains integers from 1 to 5\n",
    "x = np.linspace(1,5,num=5)\n",
    "\n",
    "# We print the original x\n",
    "print()\n",
    "print('Original:\\n x = ', x)\n",
    "print()\n",
    "\n",
    "# We change the fourth element in x from 4 to 20\n",
    "x[3] = 20\n",
    "\n",
    "# We print x after it was modified \n",
    "print('Modified:\\n x = ', x)"
   ]
  },
  {
   "source": [
    "### Example 3. Access individual elements of 2-D array\n"
   ],
   "cell_type": "markdown",
   "metadata": {}
  },
  {
   "cell_type": "code",
   "execution_count": 44,
   "metadata": {},
   "outputs": [
    {
     "output_type": "stream",
     "name": "stdout",
     "text": [
      "\nX = \n [[1 2 3]\n [4 5 6]\n [7 8 9]]\n\nThis is (0,0) Element in X:1\nThis is (0,1) Element in X:2\nThis is (2,2) Element in X:9\n"
     ]
    }
   ],
   "source": [
    "# We create a 3 x 3 rank 2 ndarray that contains integers from 1 to 9\n",
    "X = np.linspace(1,9,num=9,dtype=int).reshape(3,3)\n",
    "\n",
    "# We print X\n",
    "print()\n",
    "print('X = \\n', X)\n",
    "print()\n",
    "\n",
    "# Let's access some elements in X \n",
    "print(f\"This is (0,0) Element in X:{X[0,0]}\")\n",
    "print(f\"This is (0,1) Element in X:{X[0,1]}\")\n",
    "print(f\"This is (2,2) Element in X:{X[2,2]}\")"
   ]
  },
  {
   "source": [
    "### Example 4. Modify an element of 2-D array             \n"
   ],
   "cell_type": "markdown",
   "metadata": {}
  },
  {
   "cell_type": "code",
   "execution_count": 49,
   "metadata": {},
   "outputs": [
    {
     "output_type": "stream",
     "name": "stdout",
     "text": [
      "\nOriginal:\n X = \n [[1 2 3]\n [4 5 6]\n [7 8 9]]\n\nModified:\n X = \n [[16  2  3]\n [ 4  5  6]\n [ 7  8  9]]\n"
     ]
    }
   ],
   "source": [
    "# We create a 3 x 3 rank 2 ndarray that contains integers from 1 to 9\n",
    "X = np.linspace(1,9,num=9,dtype=int).reshape(3,3)\n",
    "\n",
    "# We print the original x\n",
    "print()\n",
    "print('Original:\\n X = \\n', X)\n",
    "print()\n",
    "\n",
    "# We change the (0,0) element in X from a random choice from 1 to 20\n",
    "X[0,0] = np.random.choice(21)\n",
    "\n",
    "# We print X after it was modified \n",
    "print('Modified:\\n X = \\n', X)"
   ]
  },
  {
   "source": [
    "### Example 5. Delete elements \n"
   ],
   "cell_type": "markdown",
   "metadata": {}
  },
  {
   "cell_type": "code",
   "execution_count": 54,
   "metadata": {},
   "outputs": [
    {
     "output_type": "stream",
     "name": "stdout",
     "text": [
      "\nOriginal x =  [1 2 3 4 5]\n\nModified x =  [2 3 4]\n\nOriginal Y = \n [[1 2 3]\n [4 5 6]\n [7 8 9]]\n\nw = \n [[4 5 6]\n [7 8 9]]\n\nv = \n [[2]\n [5]\n [8]]\n"
     ]
    }
   ],
   "source": [
    "# We create a rank 1 ndarray \n",
    "x = np.linspace(1,5,5,dtype=int)\n",
    "\n",
    "# We create a rank 2 ndarray\n",
    "Y = np.linspace(1,9,num=9,dtype=int).reshape(3,3)\n",
    "\n",
    "# We print x\n",
    "print()\n",
    "print('Original x = ', x)\n",
    "\n",
    "# We delete the first and last element of x\n",
    "x = np.delete(x,[0,-1])\n",
    "\n",
    "\n",
    "# We print x with the first and last element deleted\n",
    "print()\n",
    "print('Modified x = ', x)\n",
    "\n",
    "# We print Y\n",
    "print()\n",
    "print('Original Y = \\n', Y)\n",
    "\n",
    "# We delete the first row of y\n",
    "w = np.delete(Y,0,axis=0)        # axis 0 = rows reference\n",
    "\n",
    "# We delete the first and last column of y\n",
    "v = np.delete(Y, [0,-1], axis=1) # axis 1 = cols reference\n",
    "\n",
    "# We print w\n",
    "print()\n",
    "print('w = \\n', w)\n",
    "\n",
    "# We print v\n",
    "print()\n",
    "print('v = \\n', v)"
   ]
  },
  {
   "source": [
    "### Example 6. Append elements\n"
   ],
   "cell_type": "markdown",
   "metadata": {}
  },
  {
   "cell_type": "code",
   "execution_count": 55,
   "metadata": {},
   "outputs": [
    {
     "output_type": "stream",
     "name": "stdout",
     "text": [
      "\nOriginal x =  [1 2 3 4 5]\n\nx =  [1 2 3 4 5 6]\n\nx =  [1 2 3 4 5 6 7 8]\n\nOriginal Y = \n [[1 2 3]\n [4 5 6]]\n\nv = \n [[1 2 3]\n [4 5 6]\n [7 8 9]]\n\nq = \n [[ 1  2  3  9]\n [ 4  5  6 10]]\n"
     ]
    }
   ],
   "source": [
    "# We create a rank 1 ndarray \n",
    "x = np.array([1, 2, 3, 4, 5])\n",
    "\n",
    "# We create a rank 2 ndarray \n",
    "Y = np.array([[1,2,3],[4,5,6]])\n",
    "\n",
    "# We print x\n",
    "print()\n",
    "print('Original x = ', x)\n",
    "\n",
    "# We append the integer 6 to x\n",
    "x = np.append(x, 6)\n",
    "\n",
    "# We print x\n",
    "print()\n",
    "print('x = ', x)\n",
    "\n",
    "# We append the integer 7 and 8 to x\n",
    "x = np.append(x, [7,8])\n",
    "\n",
    "# We print x\n",
    "print()\n",
    "print('x = ', x)\n",
    "\n",
    "# We print Y\n",
    "print()\n",
    "print('Original Y = \\n', Y)\n",
    "\n",
    "# We append a new row containing 7,8,9 to y\n",
    "v = np.append(Y, [[7,8,9]], axis=0)\n",
    "\n",
    "# We append a new column containing 9 and 10 to y\n",
    "q = np.append(Y,[[9],[10]], axis=1)\n",
    "\n",
    "# We print v\n",
    "print()\n",
    "print('v = \\n', v)\n",
    "\n",
    "# We print q\n",
    "print()\n",
    "print('q = \\n', q)"
   ]
  },
  {
   "source": [
    "### Example 7.  Insert elements\n"
   ],
   "cell_type": "markdown",
   "metadata": {}
  },
  {
   "cell_type": "code",
   "execution_count": 57,
   "metadata": {},
   "outputs": [
    {
     "output_type": "stream",
     "name": "stdout",
     "text": [
      "\nOriginal x =  [1 2 5 6 7]\n\nx =  [1 2 3 4 5 6 7]\n\nOriginal Y = \n [[1 2 3]\n [7 8 9]]\n\nw = \n [[1 2 3]\n [4 5 6]\n [7 8 9]]\n\nv = \n [[1 5 2 3]\n [7 5 8 9]]\n"
     ]
    }
   ],
   "source": [
    "# We create a rank 1 ndarray \n",
    "x = np.array([1, 2, 5, 6, 7])\n",
    "\n",
    "# We create a rank 2 ndarray \n",
    "Y = np.array([[1,2,3],[7,8,9]])\n",
    "\n",
    "# We print x\n",
    "print()\n",
    "print('Original x = ', x)\n",
    "\n",
    "# We insert the integer 3 and 4 between 2 and 5 in x. \n",
    "x = np.insert(x,2,[3,4])\n",
    "\n",
    "# We print x with the inserted elements\n",
    "print()\n",
    "print('x = ', x)\n",
    "\n",
    "# We print Y\n",
    "print()\n",
    "print('Original Y = \\n', Y)\n",
    "\n",
    "# We insert a row between the first and last row of y\n",
    "w = np.insert(Y,1,[4,5,6],axis=0)\n",
    "\n",
    "# We insert a column full of 5s between the first and second column of y\n",
    "\n",
    "v = np.insert(Y,1,5, axis=1)\n",
    "\n",
    "# We print w\n",
    "print()\n",
    "print('w = \\n', w)\n",
    "\n",
    "# We print v\n",
    "print()\n",
    "print('v = \\n', v)\n"
   ]
  },
  {
   "source": [
    "## Slicing\n",
    "1. ndarray[start:end]\n",
    "2. ndarray[start:]\n",
    "3. ndarray[:end]\n"
   ],
   "cell_type": "markdown",
   "metadata": {}
  },
  {
   "source": [
    "### Example 1. Slicing in a 2-D ndarray \n"
   ],
   "cell_type": "markdown",
   "metadata": {}
  },
  {
   "cell_type": "code",
   "execution_count": 58,
   "metadata": {},
   "outputs": [
    {
     "output_type": "stream",
     "name": "stdout",
     "text": [
      "\nX = \n [[ 0  1  2  3  4]\n [ 5  6  7  8  9]\n [10 11 12 13 14]\n [15 16 17 18 19]]\n\nZ = \n [[ 7  8  9]\n [12 13 14]\n [17 18 19]]\n\nW = \n [[ 7  8  9]\n [12 13 14]\n [17 18 19]]\n\nY = \n [[ 2  3  4]\n [ 7  8  9]\n [12 13 14]]\n\nv =  [10 11 12 13 14]\n\nq =  [ 2  7 12 17]\n\nR = \n [[ 2]\n [ 7]\n [12]\n [17]]\n"
     ]
    }
   ],
   "source": [
    "import numpy as np\n",
    "\n",
    "# We create a 4 x 5 ndarray that contains integers from 0 to 19\n",
    "X = np.arange(20).reshape(4, 5)\n",
    "\n",
    "# We print X\n",
    "print()\n",
    "print('X = \\n', X)\n",
    "print()\n",
    "\n",
    "# We select all the elements that are in the 2nd through 4th rows and in the 3rd to 5th columns\n",
    "Z = X[1:4,2:5]\n",
    "\n",
    "# We print Z\n",
    "print('Z = \\n', Z)\n",
    "\n",
    "# We can select the same elements as above using method 2\n",
    "W = X[1:,2:5]\n",
    "\n",
    "# We print W\n",
    "print()\n",
    "print('W = \\n', W)\n",
    "\n",
    "# We select all the elements that are in the 1st through 3rd rows and in the 3rd to 4th columns\n",
    "Y = X[:3,2:5]\n",
    "\n",
    "# We print Y\n",
    "print()\n",
    "print('Y = \\n', Y)\n",
    "\n",
    "# We select all the elements in the 3rd row\n",
    "v = X[2,:]\n",
    "\n",
    "# We print v\n",
    "print()\n",
    "print('v = ', v)\n",
    "\n",
    "# We select all the elements in the 3rd column\n",
    "q = X[:,2]\n",
    "\n",
    "# We print q\n",
    "print()\n",
    "print('q = ', q)\n",
    "\n",
    "# We select all the elements in the 3rd column but return a rank 2 ndarray\n",
    "R = X[:,2:3]\n",
    "\n",
    "# We print R\n",
    "print()\n",
    "print('R = \\n', R)\n"
   ]
  },
  {
   "source": [
    "### Example 2. Slicing and editing elements in a 2-D ndarray "
   ],
   "cell_type": "markdown",
   "metadata": {}
  },
  {
   "source": [
    "### Example 3. Demonstrate the `copy()` function"
   ],
   "cell_type": "markdown",
   "metadata": {}
  },
  {
   "source": [
    "### Example 4. Use an array as indices to either make slices, select, or change elements"
   ],
   "cell_type": "markdown",
   "metadata": {}
  },
  {
   "source": [
    "### Example 5. Demonstrate the `diag()` function"
   ],
   "cell_type": "markdown",
   "metadata": {}
  },
  {
   "source": [
    "### Example 6. Demonstrate the `unique()` function"
   ],
   "cell_type": "markdown",
   "metadata": {}
  },
  {
   "source": [],
   "cell_type": "markdown",
   "metadata": {}
  },
  {
   "source": [],
   "cell_type": "markdown",
   "metadata": {}
  },
  {
   "source": [],
   "cell_type": "markdown",
   "metadata": {}
  },
  {
   "source": [],
   "cell_type": "markdown",
   "metadata": {}
  }
 ]
}