{
 "metadata": {
  "language_info": {
   "codemirror_mode": {
    "name": "ipython",
    "version": 3
   },
   "file_extension": ".py",
   "mimetype": "text/x-python",
   "name": "python",
   "nbconvert_exporter": "python",
   "pygments_lexer": "ipython3",
   "version": "3.8.5-final"
  },
  "orig_nbformat": 2,
  "kernelspec": {
   "name": "python3",
   "display_name": "Python 3.8.5 32-bit",
   "metadata": {
    "interpreter": {
     "hash": "03817587bd178a6fffcb9271e66c9c1ea7722011427ceebaf9cee7ff424aa13c"
    }
   }
  }
 },
 "nbformat": 4,
 "nbformat_minor": 2,
 "cells": [
  {
   "source": [
    "<h1>Introduction to Numpy</h1>\n",
    "\n",
    "In the following lessons you will learn:\n",
    "\n",
    "<ul>\n",
    "<li>How to import NumPy</li>\n",
    "<li>How to create multidimensional NumPy ndarrays using various methods</li>\n",
    "<li>How to access and change elements in ndarrays</li>\n",
    "<li>How to load and save ndarrays</li>\n",
    "<li>How to use slicing to select or change subsets of an ndarray</li>\n",
    "<li>Understand the difference between a view and a copy an of ndarray</li>\n",
    "<li>How to use Boolean indexing and set operations to select or change subsets of an ndarray</li>\n",
    "<li>How to sort ndarrays</li>\n",
    "<li>How to perform element-wise operations on ndarrays</li>\n",
    "<li>Understand how NumPy uses broadcasting to perform operations on ndarrays of different sizes. </li>\n",
    "</ul>"
   ],
   "cell_type": "markdown",
   "metadata": {}
  },
  {
   "cell_type": "code",
   "execution_count": null,
   "metadata": {},
   "outputs": [],
   "source": [
    "# Why use Numpy?\n",
    "import numpy as np\n",
    "import time as time"
   ]
  },
  {
   "cell_type": "code",
   "execution_count": null,
   "metadata": {},
   "outputs": [],
   "source": [
    "x = np.random.random(100000000)"
   ]
  },
  {
   "cell_type": "code",
   "execution_count": null,
   "metadata": {},
   "outputs": [],
   "source": [
    "# case1 - using plain python\n",
    "\n",
    "start_time = time.time()\n",
    "average = sum(x) / len(x)\n",
    "\n",
    "print(f\"Plain python - it took {time.time() - start_time} seconds to calculate the average: {average}\")\n",
    "\n",
    "\"\"\"\n",
    "Plain python - it took `28.07101273536682` seconds to calculate the average: 0.4999669348542901\n",
    "\"\"\""
   ]
  },
  {
   "cell_type": "code",
   "execution_count": null,
   "metadata": {},
   "outputs": [],
   "source": [
    "# case 2 - using Numpy\n",
    "start_time = time.time()\n",
    "average = np.mean(x)\n",
    "\n",
    "print(f\"using Numpy - it took {time.time() - start_time} seconds to calculate the average: {average}\")\n",
    "\n",
    "\"\"\"\n",
    "using Numpy - it took [0.24601483345031738] seconds to calculate the average: 0.4999669348542858\n",
    "\"\"\""
   ]
  },
  {
   "source": [
    "## Creating and Saving NumPy ndarrays\n",
    "\n",
    "There are several ways to create ndarrays in NumPy. In the following lessons we will see two ways to create ndarrays:\n",
    "<ol>\n",
    "<li> Using regular Python lists\n",
    "<li> Using built-in NumPy functions"
   ],
   "cell_type": "markdown",
   "metadata": {}
  },
  {
   "cell_type": "code",
   "execution_count": null,
   "metadata": {},
   "outputs": [],
   "source": [
    "# we import NumPy into Python\n",
    "import numpy as np\n",
    "\n",
    "# we create a 1D ndarray that contains only integers\n",
    "x = np.array([1, 2, 3, 4, 5])   # np.array(list)\n",
    "\n",
    "# print the ndarray\n",
    "print(f\"x = {x}\")"
   ]
  },
  {
   "source": [
    "## Rank of an Array (numpy.ndarray.ndim)\n",
    "\n",
    "Syntax:\n",
    "\n",
    "`ndarray.ndim`  - x.ndim"
   ],
   "cell_type": "markdown",
   "metadata": {}
  },
  {
   "cell_type": "code",
   "execution_count": null,
   "metadata": {},
   "outputs": [],
   "source": [
    "# we get the Rank of an array (1 - D , 2 - D , N - D arrays)\n",
    "\n",
    "# 1-D array (contains list - 1 refers to square brackets number)\n",
    "x = np.array([1, 2, 3])\n",
    "x.ndim"
   ]
  },
  {
   "cell_type": "code",
   "execution_count": null,
   "metadata": {},
   "outputs": [],
   "source": [
    "# 2-D array (contains list of lists - 2 refers to square brackets number)\n",
    "Y = np.array(\n",
    "    [[1,2,3],\n",
    "    [4,5,6],\n",
    "    [7,8,9],\n",
    "    [10,11,12]]\n",
    "    )\n",
    "Y.ndim"
   ]
  },
  {
   "cell_type": "code",
   "execution_count": null,
   "metadata": {},
   "outputs": [],
   "source": [
    "# Here the`zeros()` is an inbuilt function that you'll study on the next page.\n",
    "# The tuple (2, 3, 4( passed as an argument represents the shape of the ndarray\n",
    "\n",
    "y = np.zeros((2,3,4))\n",
    "y.ndim"
   ]
  },
  {
   "source": [
    "## (Shape of an array) numpy.ndarray.shape\n",
    "عدد الصفوف وعدد الأعمدة\n",
    "\n",
    "Syntax:\n",
    "\n",
    "`ndarray.shape`     - x.shape\n",
    "\n",
    "<b>It returns a tuple representing the array dimensions </b>"
   ],
   "cell_type": "markdown",
   "metadata": {}
  },
  {
   "source": [],
   "cell_type": "markdown",
   "metadata": {}
  },
  {
   "source": [
    "## Type of array elements\n",
    "نوع العناصر اللى جوة المصفوفة\n",
    "\n",
    "(Elements of an array are of type {int32})\n",
    "\n",
    "Syntax:\n",
    "\n",
    "`ndarray.dtype`     - x.shape\n",
    "\n",
    "<b>The type tells us the data-type of the elements.  </b>"
   ],
   "cell_type": "markdown",
   "metadata": {}
  },
  {
   "source": [
    "### Example 1.a - Using a 1-D Array of Integers\n"
   ],
   "cell_type": "markdown",
   "metadata": {}
  },
  {
   "cell_type": "code",
   "execution_count": null,
   "metadata": {},
   "outputs": [],
   "source": [
    "# We create a 1D ndarray that contains only integers\n",
    "x = np.array([1, 2, 3, 4, 5])\n",
    "\n",
    "# We print information about x\n",
    "print(f\" x = {x}\")\n",
    "print(f\" x has dimensions: {x.shape}\")              # (5,)\n",
    "print(f\" x is an object of type: {type(x)}\")        # `ndarray`\n",
    "print(f\" the elements of x are of type {x.dtype}\")  # int64 - x are stored in memory as signed 64-bit integers"
   ]
  },
  {
   "source": [
    "### Example 1.b - Using 1-D Array of Strings\n"
   ],
   "cell_type": "markdown",
   "metadata": {}
  },
  {
   "cell_type": "code",
   "execution_count": null,
   "metadata": {},
   "outputs": [],
   "source": [
    "# We create a rank 1 ndarray that only contains strings\n",
    "x = np.array(['Hello', 'World'])\n",
    "\n",
    "# هنطبع حبة معلومات عن المصفوفة، زى عدد الصفوف والأعمدة(الشيب)، ونوع العناصر بداخل المصفوفة(الدى تايب )، ونوع المصفوفة (التايب)\n",
    "print(f\" x = {x}\")\n",
    "print(f\" x has dimensions: {x.shape} \")             # (2,)\n",
    "print(f\" x is an object of a type: {type(x)}\")\n",
    "print(f\" the elements of x are a type: {x.dtype}\")  # U5 - Unicode strings of 5 characters."
   ]
  },
  {
   "source": [
    "### Example 1.c - Using a 1-D Array of Mixed Datatype\n"
   ],
   "cell_type": "markdown",
   "metadata": {}
  },
  {
   "cell_type": "code",
   "execution_count": null,
   "metadata": {},
   "outputs": [],
   "source": [
    "# We create a rank 1 ndarray from a Python list that contains integers and strings\n",
    "x = np.array([1, 2, 'World'])\n",
    "\n",
    "# هنطبع حبة معلومات عن المصفوفة، زى عدد الصفوف والأعمدة(الشيب)، ونوع العناصر بداخل المصفوفة(الدى تايب )، ونوع المصفوفة (التايب)\n",
    "print(f\" x = {x}\")\n",
    "print(f\" x has dimensions: {x.shape} \")             # (3,)\n",
    "print(f\" x is an object of a type: {type(x)}\")\n",
    "print(f\" the elements of x are a type: {x.dtype}\")  # U11 - Unicode strings of 11 characters."
   ]
  },
  {
   "source": [
    "## Using a 1-D Array to Demonstrate Upcasting in Numeric datatype\n"
   ],
   "cell_type": "markdown",
   "metadata": {}
  },
  {
   "source": [
    "### Example 1.d - Using a 1-D Array of Int and Float\n"
   ],
   "cell_type": "markdown",
   "metadata": {}
  },
  {
   "cell_type": "code",
   "execution_count": null,
   "metadata": {},
   "outputs": [],
   "source": [
    "# We create a rank 1 ndarray that contains integers\n",
    "x = np.array([1,2,3])\n",
    "\n",
    "# We create a rank 1 ndarray that contains floats\n",
    "y = np.array([1.0,2.0,3.0])\n",
    "\n",
    "# We create a rank 1 ndarray that contains integers and floats\n",
    "z = np.array([1, 2.5, 4])\n",
    "\n",
    "# We print the dtype of each ndarray\n",
    "print('The elements in x are of type:', x.dtype)    # int64\n",
    "print('The elements in x are of type:', y.dtype)    # float64\n",
    "print('The elements in x are of type:', z.dtype)    # float64"
   ]
  },
  {
   "source": [
    "### Example 1.e - Using a 1-D Array of Float, and specifying the datatype of each element as int64 \n",
    "\n",
    "(Casting a 1-D Array of Float to an array of integers)"
   ],
   "cell_type": "markdown",
   "metadata": {}
  },
  {
   "cell_type": "code",
   "execution_count": null,
   "metadata": {},
   "outputs": [],
   "source": [
    "# We create a rank 1 ndarray of floats but set the dtype to int64\n",
    "x = np.array([1.5, 2.2, 3.7, 4.0, 5.9], dtype = np.int64)\n",
    "\n",
    "# We print the dtype x\n",
    "print('x = ', x)\n",
    "print('The elements in x are of type:', x.dtype)"
   ]
  },
  {
   "source": [
    "## (Size of an array - عدد عناصر المصفوفة) x.size\n",
    "numpy.ndarray.size & Creating a 2-D array\n"
   ],
   "cell_type": "markdown",
   "metadata": {}
  },
  {
   "source": [
    "### Example 2 - Using a 2-D Array (Rank #2 Array)\n",
    "\n"
   ],
   "cell_type": "markdown",
   "metadata": {}
  },
  {
   "cell_type": "code",
   "execution_count": null,
   "metadata": {},
   "outputs": [],
   "source": [
    "# We create a rank 2 ndarray that only contains integers\n",
    "Y = np.array([ \n",
    "    [1,2,3], \n",
    "    [4,5,6],\n",
    "    [7,8,9], \n",
    "    [10,11,12]\n",
    "    ])\n",
    "\n",
    "# We print information about Y\n",
    "print(f\" Y (a rank 2 array): \\n {Y} \")\n",
    "print(f\" Y has dimensions of: {Y.shape}\")\n",
    "print(f\" Y has a total of {Y.size} elements \")\n",
    "print(f\" Y is an object of type: {type(Y)}\")\n",
    "print(f\" The elements in Y are of type: {Y.dtype}\")\n"
   ]
  },
  {
   "source": [
    "## Save the NumPy array to a File\n"
   ],
   "cell_type": "markdown",
   "metadata": {}
  },
  {
   "source": [
    "### Example 3 - Save the NumPy array to a File\n"
   ],
   "cell_type": "markdown",
   "metadata": {}
  },
  {
   "cell_type": "code",
   "execution_count": 40,
   "metadata": {},
   "outputs": [],
   "source": [
    "# We create a rank 1 ndarray\n",
    "x = np.array([1, 2, 3, 4, 5])\n",
    "\n",
    "# We save x into the current directory as \"saved_array\"\n",
    "np.save(\"saved_array\",x)"
   ]
  },
  {
   "source": [
    "### Example 3.1 - Load the NumPy array from our current directory\n"
   ],
   "cell_type": "markdown",
   "metadata": {}
  },
  {
   "cell_type": "code",
   "execution_count": 80,
   "metadata": {},
   "outputs": [
    {
     "output_type": "stream",
     "name": "stdout",
     "text": [
      " y:\t[1 2 3 4 5]\n\n y shape is: (5,) has 5 rows and 0 columns\n y has total of 5 elements\n y is an object of type: <class 'numpy.ndarray'>\n the type of y elements is: int32\n"
     ]
    }
   ],
   "source": [
    "# We load the saved array from our current directory into variable y\n",
    "y = np.load(\"saved_array.npy\")\n",
    "\n",
    "# we print y\n",
    "print(f\" y:\\t{y}\\n\")\n",
    "\n",
    "# we define a function to avoid geting `index error`, when calling a tuple parameters\n",
    "def shape_rows_cols():\n",
    "    shape_list = []\n",
    "    for index in range(2):\n",
    "        try:\n",
    "            shape_list.append(y.shape[index])\n",
    "        except IndexError:\n",
    "            shape_list.append(0)\n",
    "    return shape_list\n",
    "\n",
    "\n",
    "# We print information about the ndarray we loaded\n",
    "print(f\" y shape is: {y.shape} has {shape_rows_cols()[0]} rows and {shape_rows_cols()[1]} columns\")\n",
    "print(f\" y has total of {y.size} elements\")\n",
    "print(f\" y is an object of type: {type(y)}\")\n",
    "print(f\" the type of y elements is: {y.dtype}\")\n",
    "\n",
    "\n"
   ]
  },
  {
   "source": [
    "## Quiz: Creating and Saving NumPy ndarrays\n"
   ],
   "cell_type": "markdown",
   "metadata": {}
  },
  {
   "cell_type": "code",
   "execution_count": 83,
   "metadata": {},
   "outputs": [
    {
     "output_type": "stream",
     "name": "stdout",
     "text": [
      "Letters Array is: ['a' 'b' 'c' 'd' 'e' 'f' 'g' 'h' 'i' 'j']\n The elements of Letters Array are of <U1 type\n letters array shape is: (10,) has 10 rows and 0 columns\n letters_array has total of 10 elements\n"
     ]
    }
   ],
   "source": [
    "import numpy as np\n",
    "\n",
    "# create numpy array of letters a-j\n",
    "letter_array =np.array(['a','b','c','d','e','f','g','h','i','j'])\n",
    "\n",
    "print(f\"Letters Array is: {letter_array}\")\n",
    "\n",
    "# get dtype of array\n",
    "print(f\" The elements of Letters Array are of {letter_array.dtype} type\")\n",
    "\n",
    "\n",
    "# get shape of array\n",
    "\n",
    "# we define a function to avoid geting `index error`, when calling a tuple parameters\n",
    "def shape_rows_cols():\n",
    "    shape_list = []\n",
    "    for index in range(2):\n",
    "        try:\n",
    "            shape_list.append(letter_array.shape[index])\n",
    "        except IndexError:\n",
    "            shape_list.append(0)\n",
    "    return shape_list\n",
    "\n",
    "\n",
    "print(f\" letters array shape is: {letter_array.shape} has {shape_rows_cols()[0]} rows and {shape_rows_cols()[1]} columns\")\n",
    "\n",
    "\n",
    "# get size of array\n",
    "print(f\" letters_array has total of {letter_array.size} elements\")\n"
   ]
  },
  {
   "cell_type": "code",
   "execution_count": null,
   "metadata": {},
   "outputs": [],
   "source": []
  }
 ]
}