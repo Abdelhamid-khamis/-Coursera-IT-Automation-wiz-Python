{
 "cells": [
  {
   "cell_type": "markdown",
   "metadata": {},
   "source": [
    "# Task 1:\n",
    "\n",
    "### You are required to complete the function reverse(x). given a string \"x\" as an input it is expected to return that same string but reversed.\n",
    "\n",
    "### Example:\n",
    "#### input : \"again\"\n",
    "#### output: \"niaga\"\n",
    "\n",
    "##### you can change the string value in the variable `text` but you are not allowed to change the variable names or edit any other code, except the function's body, doing so may jeopardize your evaluation."
   ]
  },
  {
   "cell_type": "code",
   "execution_count": 15,
   "metadata": {
    "edited": true,
    "gradable": true,
    "grader_id": "0ixdmp56d14k",
    "udacity_user_query": "",
    "tags": []
   },
   "outputs": [
    {
     "output_type": "stream",
     "name": "stdout",
     "text": "the reversed text is: txet desrever a ton si siht\n"
    }
   ],
   "source": [
    "text = \"this is not a reversed text\"\n",
    "\n",
    "def reverse(x, seperator=''):\n",
    "    # loop thru text characters, append string characters to a new list,\n",
    "    # then, use reverse method on the new list\n",
    "    # then, use join method to convert the new list to a string\n",
    "    splited_list = []\n",
    "    \n",
    "    for character in x:\n",
    "        splited_list.append(character)\n",
    "    splited_list.reverse()\n",
    "    \n",
    "    return seperator.join(splited_list)\n",
    "    \n",
    "    \n",
    "print(\"the reversed text is: \"+reverse(text))"
   ]
  },
  {
   "cell_type": "markdown",
   "metadata": {},
   "source": [
    "# Task 2:\n",
    "\n",
    "### You are required to complete the function average(x). where \"x\" is a list of numbers, and contains more than 3 numbers. the function is expected to return the average from that list.\n",
    "\n",
    "### Example:\n",
    "#### input : [10,20,30,40]\n",
    "#### output: 25\n",
    "\n",
    "##### you can change the numbers in the list `no_list` but you are not allowed to change the variable names or edit any other code, except the function's body, doing so may jeopardize your evaluation"
   ]
  },
  {
   "cell_type": "code",
   "execution_count": 17,
   "metadata": {
    "edited": false,
    "gradable": true,
    "grader_id": "qikolrpeyx",
    "udacity_user_query": "",
    "tags": []
   },
   "outputs": [
    {
     "output_type": "stream",
     "name": "stdout",
     "text": "72.67\n"
    }
   ],
   "source": [
    "no_list = [22,68,90,78,90,88]\n",
    "\n",
    "def average(x):\n",
    "    #complete the function's body to return the average\n",
    "    return round(sum(no_list) / len(no_list),2)\n",
    "    \n",
    "print(average(no_list))"
   ]
  },
  {
   "cell_type": "markdown",
   "metadata": {},
   "source": [
    "# Task 3:\n",
    "\n",
    "### You are required to complete the function maximum(x). where \"x\" is a list of numbers, and contains more than 2 numbers. the function is expected to return the highest number in that list.\n",
    "\n",
    "### Example:\n",
    "#### input : [5,20,12,6]\n",
    "#### output: 20\n",
    "\n",
    "##### you can change the numbers in the list `no_list` but you are not allowed to change the variable names or edit any other code, except the function's body, doing so may jeopardize your evaluation"
   ]
  },
  {
   "cell_type": "code",
   "execution_count": 20,
   "metadata": {
    "edited": false,
    "gradable": true,
    "grader_id": "tsmr6ajlhw",
    "udacity_user_query": "",
    "tags": []
   },
   "outputs": [
    {
     "output_type": "stream",
     "name": "stdout",
     "text": "4\n"
    }
   ],
   "source": [
    "no_list = [1,2,3,4]\n",
    "\n",
    "def maximum(no_list):\n",
    "    #complete the function to return the highest number in the list\n",
    "    return max(no_list)\n",
    "\n",
    "print(maximum(no_list))"
   ]
  },
  {
   "cell_type": "markdown",
   "metadata": {},
   "source": [
    "# Task 4:\n",
    "\n",
    "### You are required to complete the function unique_list(l). where \"l\" is a list of numbers. the function is expected to return the unique numbers in that list.\n",
    "\n",
    "### Example:\n",
    "#### input : [1,1,1,2,2,3,3,3,3,4,5,5,6]\n",
    "#### output: [1,2,3,4,5,6]\n",
    "\n",
    "#####  you are not allowed to change the variable names or their values or edit any other code, except the function's body, doing so may jeopardize your evaluation"
   ]
  },
  {
   "cell_type": "code",
   "execution_count": 28,
   "metadata": {
    "edited": false,
    "gradable": true,
    "grader_id": "mibxa2ona8",
    "udacity_user_query": "",
    "tags": []
   },
   "outputs": [
    {
     "output_type": "stream",
     "name": "stdout",
     "text": "[22, 2, 1, 11, 3, 4, 5, 55, 66]\n"
    }
   ],
   "source": [
    "no_list = [22,22,2,1,11,11,2,2,3,3,3,4,5,5,5,55,55,66]\n",
    "\n",
    "def unique_list(l):\n",
    "  my_unique_list = []\n",
    "  for number in l:\n",
    "    # check if exists in unique_list or not \n",
    "    if number not in my_unique_list: \n",
    "      my_unique_list.append(number)\n",
    "    \n",
    "  return my_unique_list\n",
    "\n",
    "print(unique_list(no_list))"
   ]
  },
  {
   "cell_type": "code",
   "execution_count": null,
   "metadata": {
    "grader_id": "oecq1bphntq"
   },
   "outputs": [],
   "source": []
  }
 ],
 "metadata": {
  "grader_mode": "",
  "kernelspec": {
   "name": "Python 3.8.5 32-bit",
   "display_name": "Python 3.8.5 32-bit",
   "metadata": {
    "interpreter": {
     "hash": "03817587bd178a6fffcb9271e66c9c1ea7722011427ceebaf9cee7ff424aa13c"
    }
   }
  },
  "language_info": {
   "codemirror_mode": {
    "name": "ipython",
    "version": 3
   },
   "file_extension": ".py",
   "mimetype": "text/x-python",
   "name": "python",
   "nbconvert_exporter": "python",
   "pygments_lexer": "ipython3",
   "version": "3.8.5-final"
  },
  "showGradeBtn": true
 },
 "nbformat": 4,
 "nbformat_minor": 2
}